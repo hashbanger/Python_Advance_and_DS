{
 "cells": [
  {
   "cell_type": "markdown",
   "metadata": {},
   "source": [
    "# Decorators"
   ]
  },
  {
   "cell_type": "code",
   "execution_count": 109,
   "metadata": {},
   "outputs": [
    {
     "name": "stdout",
     "output_type": "stream",
     "text": [
      "outer print\n",
      "Innered HEY\n"
     ]
    }
   ],
   "source": [
    "def outer_function(msg):\n",
    "    message = msg\n",
    "    print(\"outer print\")\n",
    "\n",
    "    def inner_function():\n",
    "        print(\"Innered \" + message)\n",
    "    return inner_function\n",
    "\n",
    "hi = outer_function('HEY') #returned the reference to the inner_function\n",
    "hi()\n"
   ]
  },
  {
   "cell_type": "markdown",
   "metadata": {},
   "source": [
    "A Decorator takes in a function as argument  \n",
    "Modifies the function that you passed maybe add some functionality   \n",
    "Returns some function without altering the original fuction that you passed\n"
   ]
  },
  {
   "cell_type": "code",
   "execution_count": 110,
   "metadata": {},
   "outputs": [
    {
     "name": "stdout",
     "output_type": "stream",
     "text": [
      "Wrapper func executed before display_func\n",
      "Yeh hai display\n"
     ]
    }
   ],
   "source": [
    "def decorator_func(original_function):\n",
    "    #Some modifier function\n",
    "    def wrapper():\n",
    "        print(\"Wrapper func executed before {}\".format(original_function.__name__))\n",
    "        return original_function()\n",
    "\n",
    "    return wrapper\n",
    "\n",
    "def display_func():\n",
    "    print(\"Yeh hai display\")\n",
    "\n",
    "display_func = decorator_func(display_func)\n",
    "display_func()"
   ]
  },
  {
   "cell_type": "markdown",
   "metadata": {},
   "source": [
    "Now instead of using the line  \n",
    "**display_func = decorator_func(display_func)**   \n",
    "We could use  \n",
    "**@decorator_func**"
   ]
  },
  {
   "cell_type": "code",
   "execution_count": 111,
   "metadata": {},
   "outputs": [
    {
     "name": "stdout",
     "output_type": "stream",
     "text": [
      "Wrapper func executed before display_func\n",
      "Yeh hai display\n"
     ]
    }
   ],
   "source": [
    "def decorator_func(original_function):\n",
    "    #Some modifier function\n",
    "    def wrapper():\n",
    "        print(\"Wrapper func executed before {}\".format(original_function.__name__))\n",
    "        return original_function()\n",
    "\n",
    "    return wrapper\n",
    "\n",
    "@decorator_func\n",
    "def display_func():\n",
    "    print(\"Yeh hai display\")\n",
    "\n",
    "display_func() "
   ]
  },
  {
   "cell_type": "markdown",
   "metadata": {},
   "source": [
    "Now if we want to use the same decorator for multiple functions  \n",
    "This wouldn't work if the other function takes in arguments  \n",
    "So we will make it able to take any inputs"
   ]
  },
  {
   "cell_type": "code",
   "execution_count": 136,
   "metadata": {},
   "outputs": [
    {
     "name": "stdout",
     "output_type": "stream",
     "text": [
      "Wrapper func executed before display_func\n",
      "Yeh hai display\n",
      "Wrapper func executed before display_info\n",
      "The name is Gaitonde and age is 54\n"
     ]
    }
   ],
   "source": [
    "def decorator_func(original_function):\n",
    "    #Some modifier function\n",
    "    def wrapper(*args, **kwargs):\n",
    "        print(\"Wrapper func executed before {}\".format(original_function.__name__))\n",
    "        return original_function(*args, **kwargs)\n",
    "\n",
    "    return wrapper\n",
    "\n",
    "@decorator_func\n",
    "def display_func():\n",
    "    print(\"Yeh hai display\")\n",
    "\n",
    "@decorator_func\n",
    "def display_info(name, age):\n",
    "    print(\"The name is {} and age is {}\".format(name, age))\n",
    "\n",
    "\n",
    "display_func()\n",
    "display_info('Gaitonde',54)"
   ]
  },
  {
   "cell_type": "markdown",
   "metadata": {},
   "source": [
    "We could also use decorator classes instead of decorator functions"
   ]
  },
  {
   "cell_type": "code",
   "execution_count": 142,
   "metadata": {},
   "outputs": [
    {
     "name": "stdout",
     "output_type": "stream",
     "text": [
      "Wrapper func executed before display_func\n",
      "Yeh hai display\n",
      "Wrapper func executed before display_info\n",
      "The name is Gaitonde and age is 54\n"
     ]
    }
   ],
   "source": [
    "class decorator_class(object):\n",
    "\n",
    "    def __init__(self, original_function):\n",
    "        self.original_function = original_function\n",
    "    \n",
    "    def __call__(self, *args, **kwargs):\n",
    "        print(\"Wrapper func executed before {}\".format(self.original_function.__name__))\n",
    "        return self.original_function(*args, **kwargs)\n",
    "\n",
    "@decorator_class\n",
    "def display_func():\n",
    "    print(\"Yeh hai display\")\n",
    "\n",
    "@decorator_class\n",
    "def display_info(name, age):\n",
    "    print(\"The name is {} and age is {}\".format(name, age))\n",
    "\n",
    "\n",
    "display_func()\n",
    "display_info('Gaitonde',54)\n",
    "\n"
   ]
  },
  {
   "cell_type": "markdown",
   "metadata": {},
   "source": [
    "We can also add the logging functionality in each function using decorators"
   ]
  },
  {
   "cell_type": "code",
   "execution_count": 143,
   "metadata": {},
   "outputs": [
    {
     "name": "stdout",
     "output_type": "stream",
     "text": [
      "display_info ran with arguments (Gaitonde,54)\n",
      "display_info ran in 1.0015408992767334 secs\n"
     ]
    }
   ],
   "source": [
    "def my_logger(original_function):\n",
    "    import logging\n",
    "    logging.basicConfig(filename = '{}.log'.format(original_function.__name__), level = logging.INFO)\n",
    "\n",
    "    def wrapper(*args, **kwargs):\n",
    "        logging.info(\n",
    "            'Ran with args {} and kwargs {}'.format(args, kwargs))\n",
    "        return original_function(*args, **kwargs)\n",
    "    return wrapper\n",
    "\n",
    "def my_timer(original_function):\n",
    "    import time\n",
    "    def wrapper(*args, **kwargs):\n",
    "        t1 = time.time()\n",
    "        result = original_function(*args, **kwargs)\n",
    "        t2 = time.time() - t1\n",
    "        print('{} ran in {} secs'.format(original_function.__name__, t2))\n",
    "    return wrapper\n",
    "\n",
    "@my_logger\n",
    "def display_info(name, age):\n",
    "    print('display_info ran with arguments ({},{})'.format(name, age))\n",
    "\n",
    "import time\n",
    "@my_timer\n",
    "def display_info(name, age):\n",
    "    time.sleep(1)\n",
    "    print('display_info ran with arguments ({},{})'.format(name, age))\n",
    "\n",
    "display_info('Gaitonde', 54)"
   ]
  },
  {
   "cell_type": "markdown",
   "metadata": {},
   "source": [
    "Now what if we want to use two decorators for a single functions  \n",
    "Stacking the decorators like below won't solve it\n"
   ]
  },
  {
   "cell_type": "code",
   "execution_count": 144,
   "metadata": {},
   "outputs": [
    {
     "name": "stdout",
     "output_type": "stream",
     "text": [
      "display_info ran with arguments (Sardar,45)\n",
      "display_info ran in 1.001746416091919 secs\n"
     ]
    }
   ],
   "source": [
    "def my_logger(original_function):\n",
    "    import logging\n",
    "    logging.basicConfig(filename = '{}.log'.format(original_function.__name__), level = logging.INFO)\n",
    "\n",
    "    def wrapper(*args, **kwargs):\n",
    "        logging.info(\n",
    "            'Ran with args {} and kwargs {}'.format(args, kwargs))\n",
    "        return original_function(*args, **kwargs)\n",
    "    return wrapper\n",
    "\n",
    "def my_timer(original_function):\n",
    "    import time\n",
    "    def wrapper(*args, **kwargs):\n",
    "        t1 = time.time()\n",
    "        result = original_function(*args, **kwargs)\n",
    "        t2 = time.time() - t1\n",
    "        print('{} ran in {} secs'.format(original_function.__name__, t2))\n",
    "    return wrapper\n",
    "\n",
    "\n",
    "import time\n",
    "@my_logger\n",
    "@my_timer\n",
    "def display_info(name, age):\n",
    "    time.sleep(1)\n",
    "    print('display_info ran with arguments ({},{})'.format(name, age))\n",
    "\n",
    "display_info('Sardar', 45)"
   ]
  },
  {
   "cell_type": "markdown",
   "metadata": {},
   "source": [
    "Now what if we want to use two decorators for a single functions  \n",
    "Stacking the decorators like below won't solve it"
   ]
  },
  {
   "cell_type": "code",
   "execution_count": 145,
   "metadata": {},
   "outputs": [
    {
     "name": "stdout",
     "output_type": "stream",
     "text": [
      "display_info ran with arguments (Sardar,45)\n",
      "display_info ran in 1.0001299381256104 secs\n"
     ]
    }
   ],
   "source": [
    "\n",
    "\n",
    "def my_logger(original_function):\n",
    "    import logging\n",
    "    logging.basicConfig(filename = '{}.log'.format(original_function.__name__), level = logging.INFO)\n",
    "\n",
    "    def wrapper(*args, **kwargs):\n",
    "        logging.info(\n",
    "            'Ran with args {} and kwargs {}'.format(args, kwargs))\n",
    "        return original_function(*args, **kwargs)\n",
    "    return wrapper\n",
    "\n",
    "def my_timer(original_function):\n",
    "    import time\n",
    "    def wrapper(*args, **kwargs):\n",
    "        t1 = time.time()\n",
    "        result = original_function(*args, **kwargs)\n",
    "        t2 = time.time() - t1\n",
    "        print('{} ran in {} secs'.format(original_function.__name__, t2))\n",
    "    return wrapper\n",
    "\n",
    "\n",
    "import time\n",
    "@my_logger\n",
    "@my_timer\n",
    "def display_info(name, age):\n",
    "    time.sleep(1)\n",
    "    print('display_info ran with arguments ({},{})'.format(name, age))\n",
    "\n",
    "display_info('Sardar', 45)"
   ]
  },
  {
   "cell_type": "markdown",
   "metadata": {},
   "source": [
    "The way above works is like this  \n",
    "**display_info = my_logger(my_timer)  **  \n",
    "And hence it my_logger executed my_timer's wrapper as the original_function and log it seperately    \n",
    "We can solve this as "
   ]
  },
  {
   "cell_type": "code",
   "execution_count": 146,
   "metadata": {},
   "outputs": [
    {
     "name": "stdout",
     "output_type": "stream",
     "text": [
      "display_info ran with arguments (Sardar,45)\n",
      "display_info ran in 1.0015935897827148 secs\n",
      "MERA PREFIX Wrapper func executed before display_func\n",
      "Yeh hai display\n",
      "MERA PREFIX Wrapper func executed before display_info\n",
      "The name is Bunty and age is 42\n"
     ]
    }
   ],
   "source": [
    "from functools import wraps\n",
    "\n",
    "def my_logger(original_function):\n",
    "    import logging\n",
    "    logging.basicConfig(filename = '{}.log'.format(original_function.__name__), level = logging.INFO)\n",
    "\n",
    "    @wraps(original_function)\n",
    "    def wrapper(*args, **kwargs):\n",
    "        logging.info(\n",
    "            'Ran with args {} and kwargs {}'.format(args, kwargs))\n",
    "        return original_function(*args, **kwargs)\n",
    "    return wrapper\n",
    "\n",
    "def my_timer(original_function):\n",
    "    import time\n",
    "    @wraps(original_function)\n",
    "    def wrapper(*args, **kwargs):\n",
    "        t1 = time.time()\n",
    "        result = original_function(*args, **kwargs)\n",
    "        t2 = time.time() - t1\n",
    "        print('{} ran in {} secs'.format(original_function.__name__, t2))\n",
    "    return wrapper\n",
    "\n",
    "\n",
    "import time\n",
    "@my_logger\n",
    "@my_timer\n",
    "def display_info(name, age):\n",
    "    time.sleep(1)\n",
    "    print('display_info ran with arguments ({},{})'.format(name, age))\n",
    "\n",
    "display_info('Sardar', 45)\n",
    "\n",
    "\n",
    "#We can also have parameterized decorators\n",
    "def outer_decorator(prefix):\n",
    "    def decorator_func(original_function):\n",
    "        #Some modifier function\n",
    "        def wrapper(*args, **kwargs):\n",
    "            print(prefix + \"Wrapper func executed before {}\".format(original_function.__name__))\n",
    "            return original_function(*args, **kwargs)\n",
    "        return wrapper\n",
    "    return decorator_func\n",
    "\n",
    "@outer_decorator(\"MERA PREFIX \")\n",
    "def display_func():\n",
    "    print(\"Yeh hai display\")\n",
    "\n",
    "@outer_decorator(\"MERA PREFIX \")\n",
    "def display_info(name, age):\n",
    "    print(\"The name is {} and age is {}\".format(name, age))\n",
    "\n",
    "\n",
    "display_func()\n",
    "display_info('Bunty',42)"
   ]
  },
  {
   "cell_type": "markdown",
   "metadata": {},
   "source": [
    "### de nada!"
   ]
  }
 ],
 "metadata": {
  "kernelspec": {
   "display_name": "Python 3",
   "language": "python",
   "name": "python3"
  },
  "language_info": {
   "codemirror_mode": {
    "name": "ipython",
    "version": 3
   },
   "file_extension": ".py",
   "mimetype": "text/x-python",
   "name": "python",
   "nbconvert_exporter": "python",
   "pygments_lexer": "ipython3",
   "version": "3.5.5"
  }
 },
 "nbformat": 4,
 "nbformat_minor": 2
}
